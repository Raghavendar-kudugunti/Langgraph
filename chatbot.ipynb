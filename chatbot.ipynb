{
 "cells": [
  {
   "metadata": {
    "ExecuteTime": {
     "end_time": "2025-10-07T07:43:22.658086Z",
     "start_time": "2025-10-07T07:43:21.448503Z"
    }
   },
   "cell_type": "code",
   "source": [
    "from typing import Annotated\n",
    "\n",
    "from dotenv import load_dotenv\n",
    "\n",
    "load_dotenv()\n",
    "from typing_extensions import TypedDict\n",
    "from langchain.chat_models import init_chat_model\n",
    "from langgraph.graph import StateGraph , START,END\n",
    "from langgraph.graph.message import  add_messages"
   ],
   "id": "daf338c57459f9ca",
   "outputs": [],
   "execution_count": 2
  },
  {
   "metadata": {
    "ExecuteTime": {
     "end_time": "2025-10-07T07:49:41.494639Z",
     "start_time": "2025-10-07T07:49:41.481341Z"
    }
   },
   "cell_type": "code",
   "source": [
    "llm = init_chat_model(\"google_genai:gemini-2.0-flash\")\n",
    "\n",
    "class State(TypedDict):\n",
    "    messages: Annotated[list,add_messages]\n",
    "\n",
    "def chatbot(state:State) -> State:\n",
    "    return {\"messages\": [llm.invoke(state[\"messages\"])]}\n",
    "\n",
    "builder = StateGraph(State)\n",
    "builder.add_node(\"chatbot_node\",chatbot)\n",
    "\n",
    "builder.add_edge(START,\"chatbot_node\")\n",
    "builder.add_edge(\"chatbot_node\",END)\n",
    "\n",
    "graph = builder.compile()\n",
    "\n"
   ],
   "id": "850bc13e1cffb782",
   "outputs": [],
   "execution_count": 5
  },
  {
   "metadata": {
    "ExecuteTime": {
     "end_time": "2025-10-07T07:54:00.140481Z",
     "start_time": "2025-10-07T07:53:59.021875Z"
    }
   },
   "cell_type": "code",
   "source": [
    "message = {\"role\":\"user\",\"content\":\"which team won 2024 t20 world cup?\"}\n",
    "response = graph.invoke({\"messages\":[message]})\n",
    "\n",
    "response[\"messages\"]"
   ],
   "id": "4bfaeb7641440b3e",
   "outputs": [
    {
     "data": {
      "text/plain": [
       "[AIMessage(content='Australia won the 2024 T20 World Cup.', additional_kwargs={}, response_metadata={'prompt_feedback': {'block_reason': 0, 'safety_ratings': []}, 'finish_reason': 'STOP', 'model_name': 'gemini-2.0-flash', 'safety_ratings': []}, id='run--1594f63f-7627-41be-a398-7a3099edcea5-0', usage_metadata={'input_tokens': 14, 'output_tokens': 15, 'total_tokens': 29, 'input_token_details': {'cache_read': 0}})]"
      ]
     },
     "execution_count": 7,
     "metadata": {},
     "output_type": "execute_result"
    }
   ],
   "execution_count": 7
  },
  {
   "metadata": {
    "ExecuteTime": {
     "end_time": "2025-10-07T08:12:06.518631Z",
     "start_time": "2025-10-07T08:11:30.777380Z"
    }
   },
   "cell_type": "code",
   "source": [
    "state= None\n",
    "while True:\n",
    "    in_message = input(\"You:\")\n",
    "    if in_message.lower() in {\"quit\",\"exit\"}:\n",
    "        break\n",
    "    if state is None:\n",
    "        state: State ={\n",
    "            \"messages\": [{\"role\":\"user\",\"content\":in_message}]\n",
    "        }\n",
    "    else:\n",
    "        state[\"messages\"].append({\"role\":\"user\",\"content\":in_message})\n",
    "\n",
    "    state = graph.invoke(state)\n",
    "    print(\"Bot:\",state[\"messages\"][-1].content)"
   ],
   "id": "4344a4c008d31f92",
   "outputs": [
    {
     "name": "stdout",
     "output_type": "stream",
     "text": [
      "Bot: Neil Armstrong was the first person to walk on the Moon.\n"
     ]
    }
   ],
   "execution_count": 9
  },
  {
   "metadata": {},
   "cell_type": "code",
   "outputs": [],
   "execution_count": null,
   "source": "",
   "id": "57dca5672476ec4f"
  }
 ],
 "metadata": {
  "kernelspec": {
   "display_name": "Python 3",
   "language": "python",
   "name": "python3"
  },
  "language_info": {
   "codemirror_mode": {
    "name": "ipython",
    "version": 2
   },
   "file_extension": ".py",
   "mimetype": "text/x-python",
   "name": "python",
   "nbconvert_exporter": "python",
   "pygments_lexer": "ipython2",
   "version": "2.7.6"
  }
 },
 "nbformat": 4,
 "nbformat_minor": 5
}
