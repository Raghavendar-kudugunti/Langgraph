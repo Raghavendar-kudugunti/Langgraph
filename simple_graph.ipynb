{
 "cells": [
  {
   "cell_type": "code",
   "id": "initial_id",
   "metadata": {
    "collapsed": true,
    "ExecuteTime": {
     "end_time": "2025-10-07T05:26:35.753982Z",
     "start_time": "2025-10-07T05:26:35.749813Z"
    }
   },
   "source": [
    "from typing import TypedDict\n",
    "\n",
    "class PortfolioState(TypedDict):\n",
    "    amount_usd: float\n",
    "    total_usd:float\n",
    "    total_inr: float"
   ],
   "outputs": [],
   "execution_count": 1
  },
  {
   "metadata": {
    "ExecuteTime": {
     "end_time": "2025-10-07T05:39:53.645710Z",
     "start_time": "2025-10-07T05:39:53.641562Z"
    }
   },
   "cell_type": "code",
   "source": [
    "def calc_total(state: PortfolioState) -> PortfolioState:\n",
    "    state['total_usd'] = state['amount_usd'] * 1.08\n",
    "    return state\n",
    "\n",
    "def convert_to_inr(state: PortfolioState) -> PortfolioState:\n",
    "    state['total_inr'] = state['total_usd'] * 85\n",
    "    return state"
   ],
   "id": "7f61b3af3b2a8329",
   "outputs": [],
   "execution_count": 3
  },
  {
   "metadata": {
    "ExecuteTime": {
     "end_time": "2025-10-07T05:42:19.461134Z",
     "start_time": "2025-10-07T05:42:17.779824Z"
    }
   },
   "cell_type": "code",
   "source": [
    "from langgraph.graph import StateGraph , START,END\n",
    "\n",
    "builder = StateGraph(PortfolioState)\n",
    "\n",
    "builder.add_node(\"cal_total_node\",calc_total)\n",
    "builder.add_node(\"convert_to_inr_node\",convert_to_inr)\n",
    "builder.add_edge(START,\"cal_total_node\")\n",
    "builder.add_edge(\"cal_total_node\",\"convert_to_inr_node\")\n",
    "builder.add_edge(\"convert_to_inr_node\",END)\n",
    "\n",
    "graph = builder.compile()"
   ],
   "id": "9eaa9e0f7ece6734",
   "outputs": [],
   "execution_count": 4
  },
  {
   "metadata": {
    "ExecuteTime": {
     "end_time": "2025-10-07T05:43:09.180873Z",
     "start_time": "2025-10-07T05:43:07.417531Z"
    }
   },
   "cell_type": "code",
   "source": [
    "from IPython.display import Image, display\n",
    "\n",
    "display(Image(graph.get_graph().draw_mermaid_png()))"
   ],
   "id": "d47f86516103c73",
   "outputs": [
    {
     "data": {
      "image/png": "[encoded data removed]",
      "text/plain": [
       "<IPython.core.display.Image object>"
      ]
     },
     "metadata": {},
     "output_type": "display_data"
    }
   ],
   "execution_count": 5
  },
  {
   "metadata": {
    "ExecuteTime": {
     "end_time": "2025-10-07T05:44:08.113218Z",
     "start_time": "2025-10-07T05:44:08.105434Z"
    }
   },
   "cell_type": "code",
   "source": "graph.invoke({\"amount_usd\":1000})",
   "id": "27f98ad47848f91b",
   "outputs": [
    {
     "data": {
      "text/plain": [
       "{'amount_usd': 1000, 'total_usd': 1080.0, 'total_inr': 91800.0}"
      ]
     },
     "execution_count": 6,
     "metadata": {},
     "output_type": "execute_result"
    }
   ],
   "execution_count": 6
  },
  {
   "metadata": {},
   "cell_type": "code",
   "outputs": [],
   "execution_count": null,
   "source": "",
   "id": "dfb363d77e250812"
  }
 ],
 "metadata": {
  "kernelspec": {
   "display_name": "Python 3",
   "language": "python",
   "name": "python3"
  },
  "language_info": {
   "codemirror_mode": {
    "name": "ipython",
    "version": 2
   },
   "file_extension": ".py",
   "mimetype": "text/x-python",
   "name": "python",
   "nbconvert_exporter": "python",
   "pygments_lexer": "ipython2",
   "version": "2.7.6"
  }
 },
 "nbformat": 4,
 "nbformat_minor": 5
}
